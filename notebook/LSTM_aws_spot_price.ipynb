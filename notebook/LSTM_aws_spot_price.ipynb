{
  "cells": [
    {
      "cell_type": "markdown",
      "metadata": {
        "colab_type": "text",
        "id": "view-in-github"
      },
      "source": [
        "<a href=\"https://colab.research.google.com/github/sberdine77/LSTM-aws-spot-price/blob/main/notebook/LSTM_aws_spot_price.ipynb\" target=\"_parent\"><img src=\"https://colab.research.google.com/assets/colab-badge.svg\" alt=\"Open In Colab\"/></a>"
      ]
    },
    {
      "cell_type": "code",
      "execution_count": 1,
      "metadata": {
        "id": "5Z73LJETLEyL"
      },
      "outputs": [
        {
          "name": "stdout",
          "output_type": "stream",
          "text": [
            "Collecting scikit-learn\n",
            "  Downloading scikit_learn-1.2.1-cp39-cp39-macosx_12_0_arm64.whl (8.4 MB)\n",
            "\u001b[2K     \u001b[90m━━━━━━━━━━━━━━━━━━━━━━━━━━━━━━━━━━━━━━━━\u001b[0m \u001b[32m8.4/8.4 MB\u001b[0m \u001b[31m3.8 MB/s\u001b[0m eta \u001b[36m0:00:00\u001b[0m00:01\u001b[0m00:01\u001b[0m\n",
            "\u001b[?25hRequirement already satisfied: numpy>=1.17.3 in /Users/savioberdine/opt/anaconda3/envs/lstm/lib/python3.9/site-packages (from scikit-learn) (1.24.2)\n",
            "Collecting scipy>=1.3.2\n",
            "  Using cached scipy-1.10.1-cp39-cp39-macosx_12_0_arm64.whl (28.9 MB)\n",
            "Collecting joblib>=1.1.1\n",
            "  Downloading joblib-1.2.0-py3-none-any.whl (297 kB)\n",
            "\u001b[2K     \u001b[90m━━━━━━━━━━━━━━━━━━━━━━━━━━━━━━━━━━━━━━━\u001b[0m \u001b[32m298.0/298.0 kB\u001b[0m \u001b[31m4.0 MB/s\u001b[0m eta \u001b[36m0:00:00\u001b[0ma \u001b[36m0:00:01\u001b[0m\n",
            "\u001b[?25hCollecting threadpoolctl>=2.0.0\n",
            "  Downloading threadpoolctl-3.1.0-py3-none-any.whl (14 kB)\n",
            "Installing collected packages: threadpoolctl, scipy, joblib, scikit-learn\n",
            "Successfully installed joblib-1.2.0 scikit-learn-1.2.1 scipy-1.10.1 threadpoolctl-3.1.0\n"
          ]
        }
      ],
      "source": [
        "# Necessary instalations\n",
        "import sys\n",
        "!{sys.executable} -m pip install numpy\n",
        "!{sys.executable} -m pip install matplotlib\n",
        "!{sys.executable} -m pip install pandas\n",
        "!{sys.executable} -m pip install tensorflow-macos\n",
        "!{sys.executable} -m pip install scikit-learn"
      ]
    },
    {
      "cell_type": "code",
      "execution_count": 4,
      "metadata": {},
      "outputs": [],
      "source": [
        "#!{sys.executable} -m pip install numpy --upgrade\n",
        "#Imports\n",
        "import numpy as np\n",
        "import matplotlib.pyplot as plt\n",
        "import pandas as pd\n",
        "import math\n",
        "import tensorflow as tf\n",
        "from keras.models import Sequential\n",
        "from keras.layers import Dense\n",
        "from keras.layers import LSTM\n",
        "from sklearn.preprocessing import MinMaxScaler\n",
        "from sklearn.metrics import mean_squared_error"
      ]
    },
    {
      "cell_type": "code",
      "execution_count": 29,
      "metadata": {},
      "outputs": [
        {
          "name": "stdout",
          "output_type": "stream",
          "text": [
            "[['2023-01-31 21:07:29+00:00' 0.0805]\n",
            " ['2023-01-31 21:07:29+00:00' 0.1205]\n",
            " ['2023-01-31 21:07:29+00:00' 0.0205]\n",
            " ...\n",
            " ['2022-11-29 01:51:45+00:00' 0.119]\n",
            " ['2022-11-29 01:51:45+00:00' 0.019]\n",
            " ['2022-11-29 01:51:45+00:00' 0.019]]\n"
          ]
        },
        {
          "ename": "ValueError",
          "evalue": "could not convert string to float: '2023-01-31 21:07:29+00:00'",
          "output_type": "error",
          "traceback": [
            "\u001b[0;31m---------------------------------------------------------------------------\u001b[0m",
            "\u001b[0;31mValueError\u001b[0m                                Traceback (most recent call last)",
            "Cell \u001b[0;32mIn[29], line 8\u001b[0m\n\u001b[1;32m      6\u001b[0m dataset \u001b[39m=\u001b[39m df\u001b[39m.\u001b[39mvalues\n\u001b[1;32m      7\u001b[0m \u001b[39mprint\u001b[39m(dataset)\n\u001b[0;32m----> 8\u001b[0m dataset \u001b[39m=\u001b[39m dataset\u001b[39m.\u001b[39;49mastype(\u001b[39m'\u001b[39;49m\u001b[39mfloat64\u001b[39;49m\u001b[39m'\u001b[39;49m)\n\u001b[1;32m      9\u001b[0m \u001b[39m# normalize the dataset\u001b[39;00m\n\u001b[1;32m     10\u001b[0m \u001b[39m#scaler = MinMaxScaler(feature_range=(0, 1))\u001b[39;00m\n\u001b[1;32m     11\u001b[0m \u001b[39m#dataset = scaler.fit_transform(dataset)\u001b[39;00m\n\u001b[1;32m     12\u001b[0m \u001b[39mprint\u001b[39m(dataset)\n",
            "\u001b[0;31mValueError\u001b[0m: could not convert string to float: '2023-01-31 21:07:29+00:00'"
          ]
        }
      ],
      "source": [
        "tf.random.set_seed(7)\n",
        "df = pd.read_json('../data/spot-price-history.json')\n",
        "df = df[['Timestamp', 'SpotPrice']]\n",
        "df['Timestamp'] = df['Timestamp'].astype(str)\n",
        "df['revenue'] = df['revenue'].apply(lambda x: float(x.split()[0].replace(' ', '')))\n",
        "\n",
        "dataset = df.values\n",
        "print(dataset)\n",
        "dataset = dataset.astype('float64')\n",
        "# normalize the dataset\n",
        "#scaler = MinMaxScaler(feature_range=(0, 1))\n",
        "#dataset = scaler.fit_transform(dataset)\n",
        "print(dataset)"
      ]
    }
  ],
  "metadata": {
    "colab": {
      "authorship_tag": "ABX9TyNlt5PPWlYm+vXjxQkflFf5",
      "include_colab_link": true,
      "provenance": []
    },
    "kernelspec": {
      "display_name": "Python 3.9.16 ('lstm')",
      "language": "python",
      "name": "python3"
    },
    "language_info": {
      "codemirror_mode": {
        "name": "ipython",
        "version": 3
      },
      "file_extension": ".py",
      "mimetype": "text/x-python",
      "name": "python",
      "nbconvert_exporter": "python",
      "pygments_lexer": "ipython3",
      "version": "3.9.16"
    },
    "vscode": {
      "interpreter": {
        "hash": "074760129f1249466de31dae09cac5b5a6e9dc10ebb1dda7c3f0ac4573a9ee58"
      }
    }
  },
  "nbformat": 4,
  "nbformat_minor": 0
}
