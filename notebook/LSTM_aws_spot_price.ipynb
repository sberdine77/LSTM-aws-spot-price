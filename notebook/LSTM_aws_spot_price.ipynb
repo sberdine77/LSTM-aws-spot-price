{
  "cells": [
    {
      "cell_type": "markdown",
      "metadata": {
        "colab_type": "text",
        "id": "view-in-github"
      },
      "source": [
        "<a href=\"https://colab.research.google.com/github/sberdine77/LSTM-aws-spot-price/blob/main/notebook/LSTM_aws_spot_price.ipynb\" target=\"_parent\"><img src=\"https://colab.research.google.com/assets/colab-badge.svg\" alt=\"Open In Colab\"/></a>"
      ]
    },
    {
      "cell_type": "code",
      "execution_count": 2,
      "metadata": {
        "id": "5Z73LJETLEyL"
      },
      "outputs": [
        {
          "name": "stdout",
          "output_type": "stream",
          "text": [
            "Requirement already satisfied: numpy in /Users/savioberdine/opt/anaconda3/envs/lstm/lib/python3.9/site-packages (1.24.2)\n",
            "Requirement already satisfied: matplotlib in /Users/savioberdine/opt/anaconda3/envs/lstm/lib/python3.9/site-packages (3.7.0)\n",
            "Requirement already satisfied: fonttools>=4.22.0 in /Users/savioberdine/opt/anaconda3/envs/lstm/lib/python3.9/site-packages (from matplotlib) (4.38.0)\n",
            "Requirement already satisfied: numpy>=1.20 in /Users/savioberdine/opt/anaconda3/envs/lstm/lib/python3.9/site-packages (from matplotlib) (1.24.2)\n",
            "Requirement already satisfied: pyparsing>=2.3.1 in /Users/savioberdine/opt/anaconda3/envs/lstm/lib/python3.9/site-packages (from matplotlib) (3.0.9)\n",
            "Requirement already satisfied: kiwisolver>=1.0.1 in /Users/savioberdine/opt/anaconda3/envs/lstm/lib/python3.9/site-packages (from matplotlib) (1.4.4)\n",
            "Requirement already satisfied: python-dateutil>=2.7 in /Users/savioberdine/opt/anaconda3/envs/lstm/lib/python3.9/site-packages (from matplotlib) (2.8.2)\n",
            "Requirement already satisfied: cycler>=0.10 in /Users/savioberdine/opt/anaconda3/envs/lstm/lib/python3.9/site-packages (from matplotlib) (0.11.0)\n",
            "Requirement already satisfied: importlib-resources>=3.2.0 in /Users/savioberdine/opt/anaconda3/envs/lstm/lib/python3.9/site-packages (from matplotlib) (5.12.0)\n",
            "Requirement already satisfied: packaging>=20.0 in /Users/savioberdine/opt/anaconda3/envs/lstm/lib/python3.9/site-packages (from matplotlib) (22.0)\n",
            "Requirement already satisfied: pillow>=6.2.0 in /Users/savioberdine/opt/anaconda3/envs/lstm/lib/python3.9/site-packages (from matplotlib) (9.4.0)\n",
            "Requirement already satisfied: contourpy>=1.0.1 in /Users/savioberdine/opt/anaconda3/envs/lstm/lib/python3.9/site-packages (from matplotlib) (1.0.7)\n",
            "Requirement already satisfied: zipp>=3.1.0 in /Users/savioberdine/opt/anaconda3/envs/lstm/lib/python3.9/site-packages (from importlib-resources>=3.2.0->matplotlib) (3.15.0)\n",
            "Requirement already satisfied: six>=1.5 in /Users/savioberdine/opt/anaconda3/envs/lstm/lib/python3.9/site-packages (from python-dateutil>=2.7->matplotlib) (1.16.0)\n",
            "Requirement already satisfied: pandas in /Users/savioberdine/opt/anaconda3/envs/lstm/lib/python3.9/site-packages (1.5.3)\n",
            "Requirement already satisfied: pytz>=2020.1 in /Users/savioberdine/opt/anaconda3/envs/lstm/lib/python3.9/site-packages (from pandas) (2022.7.1)\n",
            "Requirement already satisfied: numpy>=1.20.3 in /Users/savioberdine/opt/anaconda3/envs/lstm/lib/python3.9/site-packages (from pandas) (1.24.2)\n",
            "Requirement already satisfied: python-dateutil>=2.8.1 in /Users/savioberdine/opt/anaconda3/envs/lstm/lib/python3.9/site-packages (from pandas) (2.8.2)\n",
            "Requirement already satisfied: six>=1.5 in /Users/savioberdine/opt/anaconda3/envs/lstm/lib/python3.9/site-packages (from python-dateutil>=2.8.1->pandas) (1.16.0)\n",
            "Requirement already satisfied: tensorflow-macos in /Users/savioberdine/opt/anaconda3/envs/lstm/lib/python3.9/site-packages (2.11.0)\n",
            "Requirement already satisfied: tensorboard<2.12,>=2.11 in /Users/savioberdine/opt/anaconda3/envs/lstm/lib/python3.9/site-packages (from tensorflow-macos) (2.11.2)\n",
            "Requirement already satisfied: absl-py>=1.0.0 in /Users/savioberdine/opt/anaconda3/envs/lstm/lib/python3.9/site-packages (from tensorflow-macos) (1.4.0)\n",
            "Requirement already satisfied: libclang>=13.0.0 in /Users/savioberdine/opt/anaconda3/envs/lstm/lib/python3.9/site-packages (from tensorflow-macos) (15.0.6.1)\n",
            "Requirement already satisfied: protobuf<3.20,>=3.9.2 in /Users/savioberdine/opt/anaconda3/envs/lstm/lib/python3.9/site-packages (from tensorflow-macos) (3.19.6)\n",
            "Requirement already satisfied: termcolor>=1.1.0 in /Users/savioberdine/opt/anaconda3/envs/lstm/lib/python3.9/site-packages (from tensorflow-macos) (2.2.0)\n",
            "Requirement already satisfied: grpcio<2.0,>=1.24.3 in /Users/savioberdine/opt/anaconda3/envs/lstm/lib/python3.9/site-packages (from tensorflow-macos) (1.51.3)\n",
            "Requirement already satisfied: astunparse>=1.6.0 in /Users/savioberdine/opt/anaconda3/envs/lstm/lib/python3.9/site-packages (from tensorflow-macos) (1.6.3)\n",
            "Requirement already satisfied: six>=1.12.0 in /Users/savioberdine/opt/anaconda3/envs/lstm/lib/python3.9/site-packages (from tensorflow-macos) (1.16.0)\n",
            "Requirement already satisfied: typing-extensions>=3.6.6 in /Users/savioberdine/opt/anaconda3/envs/lstm/lib/python3.9/site-packages (from tensorflow-macos) (4.5.0)\n",
            "Requirement already satisfied: flatbuffers>=2.0 in /Users/savioberdine/opt/anaconda3/envs/lstm/lib/python3.9/site-packages (from tensorflow-macos) (23.1.21)\n",
            "Requirement already satisfied: setuptools in /Users/savioberdine/opt/anaconda3/envs/lstm/lib/python3.9/site-packages (from tensorflow-macos) (65.6.3)\n",
            "Requirement already satisfied: keras<2.12,>=2.11.0 in /Users/savioberdine/opt/anaconda3/envs/lstm/lib/python3.9/site-packages (from tensorflow-macos) (2.11.0)\n",
            "Requirement already satisfied: wrapt>=1.11.0 in /Users/savioberdine/opt/anaconda3/envs/lstm/lib/python3.9/site-packages (from tensorflow-macos) (1.15.0)\n",
            "Requirement already satisfied: opt-einsum>=2.3.2 in /Users/savioberdine/opt/anaconda3/envs/lstm/lib/python3.9/site-packages (from tensorflow-macos) (3.3.0)\n",
            "Requirement already satisfied: google-pasta>=0.1.1 in /Users/savioberdine/opt/anaconda3/envs/lstm/lib/python3.9/site-packages (from tensorflow-macos) (0.2.0)\n",
            "Requirement already satisfied: numpy>=1.20 in /Users/savioberdine/opt/anaconda3/envs/lstm/lib/python3.9/site-packages (from tensorflow-macos) (1.24.2)\n",
            "Requirement already satisfied: tensorflow-estimator<2.12,>=2.11.0 in /Users/savioberdine/opt/anaconda3/envs/lstm/lib/python3.9/site-packages (from tensorflow-macos) (2.11.0)\n",
            "Requirement already satisfied: gast<=0.4.0,>=0.2.1 in /Users/savioberdine/opt/anaconda3/envs/lstm/lib/python3.9/site-packages (from tensorflow-macos) (0.4.0)\n",
            "Requirement already satisfied: packaging in /Users/savioberdine/opt/anaconda3/envs/lstm/lib/python3.9/site-packages (from tensorflow-macos) (22.0)\n",
            "Requirement already satisfied: h5py>=2.9.0 in /Users/savioberdine/opt/anaconda3/envs/lstm/lib/python3.9/site-packages (from tensorflow-macos) (3.8.0)\n",
            "Requirement already satisfied: wheel<1.0,>=0.23.0 in /Users/savioberdine/opt/anaconda3/envs/lstm/lib/python3.9/site-packages (from astunparse>=1.6.0->tensorflow-macos) (0.38.4)\n",
            "Requirement already satisfied: google-auth<3,>=1.6.3 in /Users/savioberdine/opt/anaconda3/envs/lstm/lib/python3.9/site-packages (from tensorboard<2.12,>=2.11->tensorflow-macos) (2.16.1)\n",
            "Requirement already satisfied: tensorboard-plugin-wit>=1.6.0 in /Users/savioberdine/opt/anaconda3/envs/lstm/lib/python3.9/site-packages (from tensorboard<2.12,>=2.11->tensorflow-macos) (1.8.1)\n",
            "Requirement already satisfied: markdown>=2.6.8 in /Users/savioberdine/opt/anaconda3/envs/lstm/lib/python3.9/site-packages (from tensorboard<2.12,>=2.11->tensorflow-macos) (3.4.1)\n",
            "Requirement already satisfied: requests<3,>=2.21.0 in /Users/savioberdine/opt/anaconda3/envs/lstm/lib/python3.9/site-packages (from tensorboard<2.12,>=2.11->tensorflow-macos) (2.28.2)\n",
            "Requirement already satisfied: google-auth-oauthlib<0.5,>=0.4.1 in /Users/savioberdine/opt/anaconda3/envs/lstm/lib/python3.9/site-packages (from tensorboard<2.12,>=2.11->tensorflow-macos) (0.4.6)\n",
            "Requirement already satisfied: werkzeug>=1.0.1 in /Users/savioberdine/opt/anaconda3/envs/lstm/lib/python3.9/site-packages (from tensorboard<2.12,>=2.11->tensorflow-macos) (2.2.3)\n",
            "Requirement already satisfied: tensorboard-data-server<0.7.0,>=0.6.0 in /Users/savioberdine/opt/anaconda3/envs/lstm/lib/python3.9/site-packages (from tensorboard<2.12,>=2.11->tensorflow-macos) (0.6.1)\n",
            "Requirement already satisfied: rsa<5,>=3.1.4 in /Users/savioberdine/opt/anaconda3/envs/lstm/lib/python3.9/site-packages (from google-auth<3,>=1.6.3->tensorboard<2.12,>=2.11->tensorflow-macos) (4.9)\n",
            "Requirement already satisfied: pyasn1-modules>=0.2.1 in /Users/savioberdine/opt/anaconda3/envs/lstm/lib/python3.9/site-packages (from google-auth<3,>=1.6.3->tensorboard<2.12,>=2.11->tensorflow-macos) (0.2.8)\n",
            "Requirement already satisfied: cachetools<6.0,>=2.0.0 in /Users/savioberdine/opt/anaconda3/envs/lstm/lib/python3.9/site-packages (from google-auth<3,>=1.6.3->tensorboard<2.12,>=2.11->tensorflow-macos) (5.3.0)\n",
            "Requirement already satisfied: requests-oauthlib>=0.7.0 in /Users/savioberdine/opt/anaconda3/envs/lstm/lib/python3.9/site-packages (from google-auth-oauthlib<0.5,>=0.4.1->tensorboard<2.12,>=2.11->tensorflow-macos) (1.3.1)\n",
            "Requirement already satisfied: importlib-metadata>=4.4 in /Users/savioberdine/opt/anaconda3/envs/lstm/lib/python3.9/site-packages (from markdown>=2.6.8->tensorboard<2.12,>=2.11->tensorflow-macos) (6.0.0)\n",
            "Requirement already satisfied: urllib3<1.27,>=1.21.1 in /Users/savioberdine/opt/anaconda3/envs/lstm/lib/python3.9/site-packages (from requests<3,>=2.21.0->tensorboard<2.12,>=2.11->tensorflow-macos) (1.26.14)\n",
            "Requirement already satisfied: charset-normalizer<4,>=2 in /Users/savioberdine/opt/anaconda3/envs/lstm/lib/python3.9/site-packages (from requests<3,>=2.21.0->tensorboard<2.12,>=2.11->tensorflow-macos) (3.0.1)\n",
            "Requirement already satisfied: certifi>=2017.4.17 in /Users/savioberdine/opt/anaconda3/envs/lstm/lib/python3.9/site-packages (from requests<3,>=2.21.0->tensorboard<2.12,>=2.11->tensorflow-macos) (2022.12.7)\n",
            "Requirement already satisfied: idna<4,>=2.5 in /Users/savioberdine/opt/anaconda3/envs/lstm/lib/python3.9/site-packages (from requests<3,>=2.21.0->tensorboard<2.12,>=2.11->tensorflow-macos) (3.4)\n",
            "Requirement already satisfied: MarkupSafe>=2.1.1 in /Users/savioberdine/opt/anaconda3/envs/lstm/lib/python3.9/site-packages (from werkzeug>=1.0.1->tensorboard<2.12,>=2.11->tensorflow-macos) (2.1.2)\n",
            "Requirement already satisfied: zipp>=0.5 in /Users/savioberdine/opt/anaconda3/envs/lstm/lib/python3.9/site-packages (from importlib-metadata>=4.4->markdown>=2.6.8->tensorboard<2.12,>=2.11->tensorflow-macos) (3.15.0)\n",
            "Requirement already satisfied: pyasn1<0.5.0,>=0.4.6 in /Users/savioberdine/opt/anaconda3/envs/lstm/lib/python3.9/site-packages (from pyasn1-modules>=0.2.1->google-auth<3,>=1.6.3->tensorboard<2.12,>=2.11->tensorflow-macos) (0.4.8)\n",
            "Requirement already satisfied: oauthlib>=3.0.0 in /Users/savioberdine/opt/anaconda3/envs/lstm/lib/python3.9/site-packages (from requests-oauthlib>=0.7.0->google-auth-oauthlib<0.5,>=0.4.1->tensorboard<2.12,>=2.11->tensorflow-macos) (3.2.2)\n",
            "Requirement already satisfied: scikit-learn in /Users/savioberdine/opt/anaconda3/envs/lstm/lib/python3.9/site-packages (1.2.1)\n",
            "Requirement already satisfied: numpy>=1.17.3 in /Users/savioberdine/opt/anaconda3/envs/lstm/lib/python3.9/site-packages (from scikit-learn) (1.24.2)\n",
            "Requirement already satisfied: scipy>=1.3.2 in /Users/savioberdine/opt/anaconda3/envs/lstm/lib/python3.9/site-packages (from scikit-learn) (1.10.1)\n",
            "Requirement already satisfied: threadpoolctl>=2.0.0 in /Users/savioberdine/opt/anaconda3/envs/lstm/lib/python3.9/site-packages (from scikit-learn) (3.1.0)\n",
            "Requirement already satisfied: joblib>=1.1.1 in /Users/savioberdine/opt/anaconda3/envs/lstm/lib/python3.9/site-packages (from scikit-learn) (1.2.0)\n"
          ]
        }
      ],
      "source": [
        "# Necessary instalations\n",
        "import sys\n",
        "!{sys.executable} -m pip install numpy\n",
        "!{sys.executable} -m pip install matplotlib\n",
        "!{sys.executable} -m pip install pandas\n",
        "!{sys.executable} -m pip install tensorflow-macos\n",
        "!{sys.executable} -m pip install scikit-learn"
      ]
    },
    {
      "cell_type": "code",
      "execution_count": 3,
      "metadata": {},
      "outputs": [],
      "source": [
        "#!{sys.executable} -m pip install numpy --upgrade\n",
        "#Imports\n",
        "import numpy as np\n",
        "import matplotlib.pyplot as plt\n",
        "import pandas as pd\n",
        "import math\n",
        "import tensorflow as tf\n",
        "from keras.models import Sequential\n",
        "from keras.layers import Dense\n",
        "from keras.layers import LSTM\n",
        "from sklearn.preprocessing import MinMaxScaler\n",
        "from sklearn.metrics import mean_squared_error"
      ]
    },
    {
      "cell_type": "code",
      "execution_count": 4,
      "metadata": {},
      "outputs": [
        {
          "name": "stdout",
          "output_type": "stream",
          "text": [
            "      SpotPrice                  Timestamp\n",
            "0        0.0805  2023-01-31 21:07:29+00:00\n",
            "1        0.1205  2023-01-31 21:07:29+00:00\n",
            "2        0.0205  2023-01-31 21:07:29+00:00\n",
            "3        0.0809  2023-01-31 14:50:58+00:00\n",
            "4        0.1209  2023-01-31 14:50:58+00:00\n",
            "...         ...                        ...\n",
            "1080     0.0790  2022-11-29 01:51:45+00:00\n",
            "1081     0.1190  2022-11-29 01:51:45+00:00\n",
            "1082     0.1190  2022-11-29 01:51:45+00:00\n",
            "1083     0.0190  2022-11-29 01:51:45+00:00\n",
            "1084     0.0190  2022-11-29 01:51:45+00:00\n",
            "\n",
            "[1085 rows x 2 columns]\n",
            "[[0.3829389810562134 '2023-01-31 21:07:29+00:00']\n",
            " [0.632004976272583 '2023-01-31 21:07:29+00:00']\n",
            " [0.009339988231658936 '2023-01-31 21:07:29+00:00']\n",
            " ...\n",
            " [0.6226649880409241 '2022-11-29 01:51:45+00:00']\n",
            " [0.0 '2022-11-29 01:51:45+00:00']\n",
            " [0.0 '2022-11-29 01:51:45+00:00']]\n"
          ]
        }
      ],
      "source": [
        "tf.random.set_seed(7)\n",
        "df = pd.read_json('../data/spot-price-history.json')\n",
        "df = df[['SpotPrice', 'Timestamp']]\n",
        "df['Timestamp'] = df['Timestamp'].astype(str)\n",
        "df['SpotPrice'] = df['SpotPrice'].astype(\"float32\")\n",
        "print(df)\n",
        "#df['Timestamp'] = df['Timestamp'].replace('\\+','', regex=True).astype(str)\n",
        "#df['SpotPrice'] = df['SpotPrice'].astype(float)\n",
        "\n",
        "# normalize the dataset\n",
        "scaler = MinMaxScaler(feature_range=(0, 1))\n",
        "df['SpotPrice'] = scaler.fit_transform(df[['SpotPrice']])\n",
        "\n",
        "dataset = df.values\n",
        "#print(dataset)\n",
        "#dataset = dataset.astype('float32')\n",
        "#dataset = dataset.astype('float64')\n",
        "print(dataset)"
      ]
    }
  ],
  "metadata": {
    "colab": {
      "authorship_tag": "ABX9TyNlt5PPWlYm+vXjxQkflFf5",
      "include_colab_link": true,
      "provenance": []
    },
    "kernelspec": {
      "display_name": "Python 3.9.16 ('lstm')",
      "language": "python",
      "name": "python3"
    },
    "language_info": {
      "codemirror_mode": {
        "name": "ipython",
        "version": 3
      },
      "file_extension": ".py",
      "mimetype": "text/x-python",
      "name": "python",
      "nbconvert_exporter": "python",
      "pygments_lexer": "ipython3",
      "version": "3.9.16"
    },
    "vscode": {
      "interpreter": {
        "hash": "074760129f1249466de31dae09cac5b5a6e9dc10ebb1dda7c3f0ac4573a9ee58"
      }
    }
  },
  "nbformat": 4,
  "nbformat_minor": 0
}
